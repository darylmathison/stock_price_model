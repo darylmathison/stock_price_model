{
 "cells": [
  {
   "cell_type": "code",
   "execution_count": 6,
   "outputs": [],
   "source": [
    "import pandas as pd\n",
    "from sklearn.model_selection import GridSearchCV, train_test_split\n",
    "from sklearn.tree import DecisionTreeRegressor\n",
    "from sklearn.pipeline import Pipeline\n",
    "import matplotlib.pyplot as plt\n",
    "from sklearn.preprocessing import FunctionTransformer\n",
    "import numpy as np\n",
    "from pandas import DataFrame\n",
    "plt.style.use('fivethirtyeight')"
   ],
   "metadata": {
    "collapsed": false,
    "ExecuteTime": {
     "end_time": "2023-06-11T13:02:09.201786Z",
     "start_time": "2023-06-11T13:02:09.173940Z"
    }
   }
  },
  {
   "cell_type": "code",
   "execution_count": 7,
   "outputs": [],
   "source": [
    "cane = pd.read_csv('../data/CANE.csv', index_col=0)"
   ],
   "metadata": {
    "collapsed": false,
    "ExecuteTime": {
     "end_time": "2023-06-11T13:02:09.227521Z",
     "start_time": "2023-06-11T13:02:09.179815Z"
    }
   }
  },
  {
   "cell_type": "markdown",
   "source": [
    "***Exploratory Data Analysis (EDA)***\n",
    "\n",
    "This phase of the project allows one to see how much work is needed in the dataset.  Stock data is quite clean compared to other datasets but one needs to see what one is working with considering that not all machine learning model types handle data the same way.  For example, linear regression will not work on a sine wave."
   ],
   "metadata": {
    "collapsed": false
   }
  },
  {
   "cell_type": "markdown",
   "source": [
    "***Graph of The Closing Price***\n",
    "This shows the price of the closing price for the time series"
   ],
   "metadata": {
    "collapsed": false
   }
  },
  {
   "cell_type": "code",
   "execution_count": null,
   "outputs": [],
   "source": [
    "# matlib code here"
   ],
   "metadata": {
    "collapsed": false
   }
  },
  {
   "cell_type": "markdown",
   "source": [
    "**Basic Aggregates**\n",
    "\n",
    "This is normally maximum, minimum, average and standard deviation."
   ],
   "metadata": {
    "collapsed": false
   }
  },
  {
   "cell_type": "code",
   "execution_count": 13,
   "outputs": [
    {
     "data": {
      "text/plain": "count    2942.000000\nmean       11.338899\nstd         4.566188\nmin         4.920000\n25%         7.825000\n50%         9.700000\n75%        14.065000\nmax        26.309999\nName: Close, dtype: float64"
     },
     "execution_count": 13,
     "metadata": {},
     "output_type": "execute_result"
    }
   ],
   "source": [
    "cane.Close.describe()"
   ],
   "metadata": {
    "collapsed": false,
    "ExecuteTime": {
     "end_time": "2023-06-11T13:02:31.252789Z",
     "start_time": "2023-06-11T13:02:31.243207Z"
    }
   }
  },
  {
   "cell_type": "markdown",
   "source": [
    "***Transforming the Data***\n",
    "\n",
    "It is best to create a pipeline for transforming the data.  Each step does a small thing and passes it along to the next step.  It reminds me of shell scripting using pipes."
   ],
   "metadata": {
    "collapsed": false
   }
  },
  {
   "cell_type": "code",
   "execution_count": 10,
   "outputs": [],
   "source": [
    "def create_pipeline(column_name):\n",
    "    def filter_out_columns(dataframe):\n",
    "        return dataframe.filter([column_name])\n",
    "\n",
    "    return Pipeline([\n",
    "        ('filtering', FunctionTransformer(filter_out_columns)),\n",
    "        ('globbing_data', FunctionTransformer(globbing_prices))\n",
    "    ])"
   ],
   "metadata": {
    "collapsed": false,
    "ExecuteTime": {
     "end_time": "2023-06-11T13:02:09.273374Z",
     "start_time": "2023-06-11T13:02:09.243456Z"
    }
   }
  },
  {
   "cell_type": "markdown",
   "source": [
    "The first thing done to filter out only the closing price of each market day and then the data gets transformed by the `globbing_prices` function."
   ],
   "metadata": {
    "collapsed": false
   }
  },
  {
   "cell_type": "code",
   "execution_count": 9,
   "outputs": [],
   "source": [
    "def globbing_prices(data: DataFrame, history=1, num_outputs=1):\n",
    "    x = []\n",
    "    y = []\n",
    "    for i in range(history, len(data) - num_outputs):\n",
    "        x.append(data[i - history:i].values)\n",
    "        ends = data[i: (i + num_outputs)].values\n",
    "        y.append(ends[0])\n",
    "\n",
    "    x_np = np.array(x)\n",
    "    y_np = np.array(y)\n",
    "    return x_np.reshape((x_np.shape[0], x_np.shape[1])), y_np.reshape((y_np.shape[0], y_np.shape[1]))"
   ],
   "metadata": {
    "collapsed": false,
    "ExecuteTime": {
     "end_time": "2023-06-11T13:02:09.245938Z",
     "start_time": "2023-06-11T13:02:09.238590Z"
    }
   }
  },
  {
   "cell_type": "markdown",
   "source": [
    "`globbing_prices` takes the closing prices and puts them into two arrays.  The first array, named `x`, is yesterday's closing price.  The second array, named `y` is the closing price of the next day.  I played with the number of past days to present to the algorithm via the `history` parameter and found that one day is optimal.  I also added a `num_outputs`"
   ],
   "metadata": {
    "collapsed": false
   }
  },
  {
   "cell_type": "code",
   "execution_count": 11,
   "outputs": [],
   "source": [
    "def evaluate_models(x, y, model):\n",
    "    params = {\n",
    "        \"max_depth\": [i for i in range(7, 15)],\n",
    "        \"criterion\": [\"squared_error\", \"friedman_mse\", \"absolute_error\", \"poisson\"],\n",
    "        \"splitter\": [\"best\", \"random\"],\n",
    "        \"max_features\": [\"sqrt\", \"log2\"],\n",
    "        \"min_samples_split\": [i for i in range(2, 5)]\n",
    "    }\n",
    "\n",
    "    gs = GridSearchCV(model, params, cv=3)\n",
    "\n",
    "    gs.fit(x, y)\n",
    "    print(gs.best_score_, gs.best_params_)\n",
    "    return gs.best_estimator_"
   ],
   "metadata": {
    "collapsed": false,
    "ExecuteTime": {
     "end_time": "2023-06-11T13:02:09.273846Z",
     "start_time": "2023-06-11T13:02:09.255086Z"
    }
   }
  },
  {
   "cell_type": "code",
   "execution_count": 12,
   "outputs": [
    {
     "name": "stdout",
     "output_type": "stream",
     "text": [
      "0.3177104356007454 {'criterion': 'absolute_error', 'max_depth': 8, 'max_features': 'sqrt', 'min_samples_split': 4, 'splitter': 'best'}\n",
      "-0.04549445437917021\n",
      "0.9874427336526271\n"
     ]
    }
   ],
   "source": [
    "cane = pd.read_csv('../data/CANE.csv', index_col=0)\n",
    "pipeline = create_pipeline(\"Close\")\n",
    "x, y = pipeline.fit_transform(cane)\n",
    "\n",
    "x_training_data, x_verify, y_training_data, y_verify = train_test_split(x, y, train_size=0.8, shuffle=False)\n",
    "x_train, x_test, y_train, y_test = train_test_split(x_training_data, y_training_data, train_size=0.9, shuffle=False)\n",
    "\n",
    "best_model = evaluate_models(x_train, y_train, DecisionTreeRegressor())\n",
    "print(best_model.score(x_test, y_test))\n",
    "print(best_model.score(x_verify, y_verify))"
   ],
   "metadata": {
    "collapsed": false,
    "ExecuteTime": {
     "end_time": "2023-06-11T13:02:15.248236Z",
     "start_time": "2023-06-11T13:02:09.260885Z"
    }
   }
  },
  {
   "cell_type": "code",
   "execution_count": 12,
   "outputs": [],
   "source": [],
   "metadata": {
    "collapsed": false,
    "ExecuteTime": {
     "end_time": "2023-06-11T13:02:15.253305Z",
     "start_time": "2023-06-11T13:02:15.249036Z"
    }
   }
  }
 ],
 "metadata": {
  "kernelspec": {
   "display_name": "Python 3",
   "language": "python",
   "name": "python3"
  },
  "language_info": {
   "codemirror_mode": {
    "name": "ipython",
    "version": 2
   },
   "file_extension": ".py",
   "mimetype": "text/x-python",
   "name": "python",
   "nbconvert_exporter": "python",
   "pygments_lexer": "ipython2",
   "version": "2.7.6"
  }
 },
 "nbformat": 4,
 "nbformat_minor": 0
}
